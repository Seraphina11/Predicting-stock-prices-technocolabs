{
 "cells": [
  {
   "cell_type": "code",
   "execution_count": 1,
   "id": "afbf0565",
   "metadata": {},
   "outputs": [],
   "source": [
    "import pandas as pd\n",
    "import os\n",
    "import glob\n",
    "import matplotlib\n",
    "import seaborn as sns\n",
    "import nltk\n",
    "os.chdir(\"C:\\\\Users\\Dell\\Downloads\\Predicting-stock-prices-for-large-cap-technology-companies-DS-II\\Datasets of Stocks Market and Stock News Articles\\Stocks News Articles Datasets\")"
   ]
  },
  {
   "cell_type": "code",
   "execution_count": 2,
   "id": "903d00a9",
   "metadata": {},
   "outputs": [],
   "source": [
    "extension=\"CSV\"\n",
    "file_name=[i for i in glob.glob('*.{}'.format(extension))]\n",
    "## combining all files in the list\n",
    "\n",
    "du=pd.concat([pd.read_csv(f) for f in file_name])\n",
    "\n",
    "\n",
    "##Saving as csv file\n",
    "\n",
    "du.to_csv(\"df.csv\",index=False)"
   ]
  },
  {
   "cell_type": "code",
   "execution_count": 4,
   "id": "cea37d54",
   "metadata": {},
   "outputs": [
    {
     "data": {
      "text/html": [
       "<div>\n",
       "<style scoped>\n",
       "    .dataframe tbody tr th:only-of-type {\n",
       "        vertical-align: middle;\n",
       "    }\n",
       "\n",
       "    .dataframe tbody tr th {\n",
       "        vertical-align: top;\n",
       "    }\n",
       "\n",
       "    .dataframe thead th {\n",
       "        text-align: right;\n",
       "    }\n",
       "</style>\n",
       "<table border=\"1\" class=\"dataframe\">\n",
       "  <thead>\n",
       "    <tr style=\"text-align: right;\">\n",
       "      <th></th>\n",
       "      <th>Date</th>\n",
       "      <th>Headlines</th>\n",
       "    </tr>\n",
       "  </thead>\n",
       "  <tbody>\n",
       "    <tr>\n",
       "      <th>0</th>\n",
       "      <td>2015-01-01</td>\n",
       "      <td>What Can We Expect From Apple Inc. In 2015? 1 ...</td>\n",
       "    </tr>\n",
       "    <tr>\n",
       "      <th>1</th>\n",
       "      <td>2015-01-02</td>\n",
       "      <td>What to expect from Apple in 2015 beyond its s...</td>\n",
       "    </tr>\n",
       "    <tr>\n",
       "      <th>2</th>\n",
       "      <td>2015-01-03</td>\n",
       "      <td>Mountie: An inexpensive and innovative way to ...</td>\n",
       "    </tr>\n",
       "    <tr>\n",
       "      <th>3</th>\n",
       "      <td>2015-01-04</td>\n",
       "      <td>Donald Yacktman on the Sources of Moats, His C...</td>\n",
       "    </tr>\n",
       "    <tr>\n",
       "      <th>4</th>\n",
       "      <td>2015-01-05</td>\n",
       "      <td>SIM-free iPhone 6, 6 Plus reportedly debuting ...</td>\n",
       "    </tr>\n",
       "  </tbody>\n",
       "</table>\n",
       "</div>"
      ],
      "text/plain": [
       "         Date                                          Headlines\n",
       "0  2015-01-01  What Can We Expect From Apple Inc. In 2015? 1 ...\n",
       "1  2015-01-02  What to expect from Apple in 2015 beyond its s...\n",
       "2  2015-01-03  Mountie: An inexpensive and innovative way to ...\n",
       "3  2015-01-04  Donald Yacktman on the Sources of Moats, His C...\n",
       "4  2015-01-05  SIM-free iPhone 6, 6 Plus reportedly debuting ..."
      ]
     },
     "execution_count": 4,
     "metadata": {},
     "output_type": "execute_result"
    }
   ],
   "source": [
    "du.head()"
   ]
  },
  {
   "cell_type": "code",
   "execution_count": 5,
   "id": "278a388a",
   "metadata": {},
   "outputs": [
    {
     "data": {
      "text/html": [
       "<div>\n",
       "<style scoped>\n",
       "    .dataframe tbody tr th:only-of-type {\n",
       "        vertical-align: middle;\n",
       "    }\n",
       "\n",
       "    .dataframe tbody tr th {\n",
       "        vertical-align: top;\n",
       "    }\n",
       "\n",
       "    .dataframe thead th {\n",
       "        text-align: right;\n",
       "    }\n",
       "</style>\n",
       "<table border=\"1\" class=\"dataframe\">\n",
       "  <thead>\n",
       "    <tr style=\"text-align: right;\">\n",
       "      <th></th>\n",
       "      <th>Date</th>\n",
       "      <th>Headlines</th>\n",
       "    </tr>\n",
       "  </thead>\n",
       "  <tbody>\n",
       "    <tr>\n",
       "      <th>169</th>\n",
       "      <td>2021-06-19</td>\n",
       "      <td>Best pre-Prime Day smartwatch deals on Apple W...</td>\n",
       "    </tr>\n",
       "    <tr>\n",
       "      <th>170</th>\n",
       "      <td>2021-06-20</td>\n",
       "      <td>iPhone 13 rumors: As Apple's fall event gets c...</td>\n",
       "    </tr>\n",
       "    <tr>\n",
       "      <th>171</th>\n",
       "      <td>2021-06-21</td>\n",
       "      <td>Apple is shortening new free TV Plus trials fr...</td>\n",
       "    </tr>\n",
       "    <tr>\n",
       "      <th>172</th>\n",
       "      <td>2021-06-22</td>\n",
       "      <td>Google likely to soon face antitrust claims ov...</td>\n",
       "    </tr>\n",
       "    <tr>\n",
       "      <th>173</th>\n",
       "      <td>2021-06-23</td>\n",
       "      <td>French court sets date in Apple case over App ...</td>\n",
       "    </tr>\n",
       "  </tbody>\n",
       "</table>\n",
       "</div>"
      ],
      "text/plain": [
       "           Date                                          Headlines\n",
       "169  2021-06-19  Best pre-Prime Day smartwatch deals on Apple W...\n",
       "170  2021-06-20  iPhone 13 rumors: As Apple's fall event gets c...\n",
       "171  2021-06-21  Apple is shortening new free TV Plus trials fr...\n",
       "172  2021-06-22  Google likely to soon face antitrust claims ov...\n",
       "173  2021-06-23  French court sets date in Apple case over App ..."
      ]
     },
     "execution_count": 5,
     "metadata": {},
     "output_type": "execute_result"
    }
   ],
   "source": [
    "du.tail()\n"
   ]
  },
  {
   "cell_type": "markdown",
   "id": "c659be8b",
   "metadata": {},
   "source": [
    "## Text Preprocessing Starts\n",
    "\n",
    "\n",
    "To preprocess your text simply means to bring your text into a form that is predictable and analyzable for your task. A task here is a combination of approach and domain.\n",
    "\n",
    "Text mining also referred to as text analytics. Text mining is a process of exploring sizeable textual data and find patterns. Text Mining process the text itself, while NLP process with the underlying metadata."
   ]
  },
  {
   "cell_type": "markdown",
   "id": "7c2615af",
   "metadata": {},
   "source": [
    "### 1. Changing the headlines into lowercase"
   ]
  },
  {
   "cell_type": "code",
   "execution_count": 7,
   "id": "2f2f57a5",
   "metadata": {},
   "outputs": [
    {
     "data": {
      "text/html": [
       "<div>\n",
       "<style scoped>\n",
       "    .dataframe tbody tr th:only-of-type {\n",
       "        vertical-align: middle;\n",
       "    }\n",
       "\n",
       "    .dataframe tbody tr th {\n",
       "        vertical-align: top;\n",
       "    }\n",
       "\n",
       "    .dataframe thead th {\n",
       "        text-align: right;\n",
       "    }\n",
       "</style>\n",
       "<table border=\"1\" class=\"dataframe\">\n",
       "  <thead>\n",
       "    <tr style=\"text-align: right;\">\n",
       "      <th></th>\n",
       "      <th>Date</th>\n",
       "      <th>Headlines</th>\n",
       "    </tr>\n",
       "  </thead>\n",
       "  <tbody>\n",
       "    <tr>\n",
       "      <th>0</th>\n",
       "      <td>2015-01-01</td>\n",
       "      <td>what can we expect from apple inc. in 2015? 1 ...</td>\n",
       "    </tr>\n",
       "    <tr>\n",
       "      <th>1</th>\n",
       "      <td>2015-01-02</td>\n",
       "      <td>what to expect from apple in 2015 beyond its s...</td>\n",
       "    </tr>\n",
       "    <tr>\n",
       "      <th>2</th>\n",
       "      <td>2015-01-03</td>\n",
       "      <td>mountie: an inexpensive and innovative way to ...</td>\n",
       "    </tr>\n",
       "    <tr>\n",
       "      <th>3</th>\n",
       "      <td>2015-01-04</td>\n",
       "      <td>donald yacktman on the sources of moats, his c...</td>\n",
       "    </tr>\n",
       "    <tr>\n",
       "      <th>4</th>\n",
       "      <td>2015-01-05</td>\n",
       "      <td>sim-free iphone 6, 6 plus reportedly debuting ...</td>\n",
       "    </tr>\n",
       "    <tr>\n",
       "      <th>5</th>\n",
       "      <td>2015-01-06</td>\n",
       "      <td>technology transforming cars into \"phones on w...</td>\n",
       "    </tr>\n",
       "    <tr>\n",
       "      <th>6</th>\n",
       "      <td>2015-01-07</td>\n",
       "      <td>apple issues fourth developer beta of os x 10....</td>\n",
       "    </tr>\n",
       "    <tr>\n",
       "      <th>7</th>\n",
       "      <td>2015-01-08</td>\n",
       "      <td>apple company recalls 2014 shipments after lin...</td>\n",
       "    </tr>\n",
       "    <tr>\n",
       "      <th>8</th>\n",
       "      <td>2015-01-09</td>\n",
       "      <td>samsung is reportedly making a secret new chip...</td>\n",
       "    </tr>\n",
       "    <tr>\n",
       "      <th>9</th>\n",
       "      <td>2015-01-10</td>\n",
       "      <td>eight years ago, steve jobs unveiled iphone an...</td>\n",
       "    </tr>\n",
       "  </tbody>\n",
       "</table>\n",
       "</div>"
      ],
      "text/plain": [
       "         Date                                          Headlines\n",
       "0  2015-01-01  what can we expect from apple inc. in 2015? 1 ...\n",
       "1  2015-01-02  what to expect from apple in 2015 beyond its s...\n",
       "2  2015-01-03  mountie: an inexpensive and innovative way to ...\n",
       "3  2015-01-04  donald yacktman on the sources of moats, his c...\n",
       "4  2015-01-05  sim-free iphone 6, 6 plus reportedly debuting ...\n",
       "5  2015-01-06  technology transforming cars into \"phones on w...\n",
       "6  2015-01-07  apple issues fourth developer beta of os x 10....\n",
       "7  2015-01-08  apple company recalls 2014 shipments after lin...\n",
       "8  2015-01-09  samsung is reportedly making a secret new chip...\n",
       "9  2015-01-10  eight years ago, steve jobs unveiled iphone an..."
      ]
     },
     "execution_count": 7,
     "metadata": {},
     "output_type": "execute_result"
    }
   ],
   "source": [
    "for col in du.columns:\n",
    "    du[col]=du[col].str.lower()\n",
    "du.head(10)"
   ]
  },
  {
   "cell_type": "markdown",
   "id": "030f2298",
   "metadata": {},
   "source": [
    "### 2. Removing unwanted characters"
   ]
  },
  {
   "cell_type": "markdown",
   "id": "66a254dd",
   "metadata": {},
   "source": [
    "Removal of Punctuations One another common text preprocessing technique is to remove the punctuations from the text data. This is again a text standardization process that will help to treat 'hurray' and 'hurray!' in the same way."
   ]
  },
  {
   "cell_type": "code",
   "execution_count": 8,
   "id": "69a84a8f",
   "metadata": {},
   "outputs": [
    {
     "data": {
      "text/html": [
       "<div>\n",
       "<style scoped>\n",
       "    .dataframe tbody tr th:only-of-type {\n",
       "        vertical-align: middle;\n",
       "    }\n",
       "\n",
       "    .dataframe tbody tr th {\n",
       "        vertical-align: top;\n",
       "    }\n",
       "\n",
       "    .dataframe thead th {\n",
       "        text-align: right;\n",
       "    }\n",
       "</style>\n",
       "<table border=\"1\" class=\"dataframe\">\n",
       "  <thead>\n",
       "    <tr style=\"text-align: right;\">\n",
       "      <th></th>\n",
       "      <th>Date</th>\n",
       "      <th>Headlines</th>\n",
       "    </tr>\n",
       "  </thead>\n",
       "  <tbody>\n",
       "    <tr>\n",
       "      <th>0</th>\n",
       "      <td>2015-01-01</td>\n",
       "      <td>what can we expect from apple inc in 2015 1 re...</td>\n",
       "    </tr>\n",
       "    <tr>\n",
       "      <th>1</th>\n",
       "      <td>2015-01-02</td>\n",
       "      <td>what to expect from apple in 2015 beyond its s...</td>\n",
       "    </tr>\n",
       "    <tr>\n",
       "      <th>2</th>\n",
       "      <td>2015-01-03</td>\n",
       "      <td>mountie an inexpensive and innovative way to a...</td>\n",
       "    </tr>\n",
       "    <tr>\n",
       "      <th>3</th>\n",
       "      <td>2015-01-04</td>\n",
       "      <td>donald yacktman on the sources of moats his co...</td>\n",
       "    </tr>\n",
       "    <tr>\n",
       "      <th>4</th>\n",
       "      <td>2015-01-05</td>\n",
       "      <td>simfree iphone 6 6 plus reportedly debuting to...</td>\n",
       "    </tr>\n",
       "  </tbody>\n",
       "</table>\n",
       "</div>"
      ],
      "text/plain": [
       "         Date                                          Headlines\n",
       "0  2015-01-01  what can we expect from apple inc in 2015 1 re...\n",
       "1  2015-01-02  what to expect from apple in 2015 beyond its s...\n",
       "2  2015-01-03  mountie an inexpensive and innovative way to a...\n",
       "3  2015-01-04  donald yacktman on the sources of moats his co...\n",
       "4  2015-01-05  simfree iphone 6 6 plus reportedly debuting to..."
      ]
     },
     "execution_count": 8,
     "metadata": {},
     "output_type": "execute_result"
    }
   ],
   "source": [
    "import string\n",
    "PUNCT_TO_REMOVE = string.punctuation\n",
    "def clean(text):\n",
    "    \"\"\"custom function to remove the punctuation\"\"\"\n",
    "    \n",
    "    return text.translate(str.maketrans('', '', PUNCT_TO_REMOVE))\n",
    "\n",
    "\n",
    "du[\"Headlines\"] = du[\"Headlines\"].apply(lambda text: clean(text))\n",
    "du.head()\n",
    "    "
   ]
  },
  {
   "cell_type": "markdown",
   "id": "cb35f300",
   "metadata": {},
   "source": [
    "### Text Normalization\n",
    "\n",
    "When we normalize text, we attempt to reduce its randomness, bringing it closer to a predefined “standard”. This helps us to reduce the amount of different information that the computer has to deal with, and therefore improves efficiency. The goal of normalization techniques like stemming and lemmatization\n"
   ]
  },
  {
   "cell_type": "code",
   "execution_count": 9,
   "id": "c8e1db4b",
   "metadata": {},
   "outputs": [
    {
     "name": "stdout",
     "output_type": "stream",
     "text": [
      "['i', 'me', 'my', 'myself', 'we', 'our', 'ours', 'ourselves', 'you', \"you're\", \"you've\", \"you'll\", \"you'd\", 'your', 'yours', 'yourself', 'yourselves', 'he', 'him', 'his', 'himself', 'she', \"she's\", 'her', 'hers', 'herself', 'it', \"it's\", 'its', 'itself', 'they', 'them', 'their', 'theirs', 'themselves', 'what', 'which', 'who', 'whom', 'this', 'that', \"that'll\", 'these', 'those', 'am', 'is', 'are', 'was', 'were', 'be', 'been', 'being', 'have', 'has', 'had', 'having', 'do', 'does', 'did', 'doing', 'a', 'an', 'the', 'and', 'but', 'if', 'or', 'because', 'as', 'until', 'while', 'of', 'at', 'by', 'for', 'with', 'about', 'against', 'between', 'into', 'through', 'during', 'before', 'after', 'above', 'below', 'to', 'from', 'up', 'down', 'in', 'out', 'on', 'off', 'over', 'under', 'again', 'further', 'then', 'once', 'here', 'there', 'when', 'where', 'why', 'how', 'all', 'any', 'both', 'each', 'few', 'more', 'most', 'other', 'some', 'such', 'no', 'nor', 'not', 'only', 'own', 'same', 'so', 'than', 'too', 'very', 's', 't', 'can', 'will', 'just', 'don', \"don't\", 'should', \"should've\", 'now', 'd', 'll', 'm', 'o', 're', 've', 'y', 'ain', 'aren', \"aren't\", 'couldn', \"couldn't\", 'didn', \"didn't\", 'doesn', \"doesn't\", 'hadn', \"hadn't\", 'hasn', \"hasn't\", 'haven', \"haven't\", 'isn', \"isn't\", 'ma', 'mightn', \"mightn't\", 'mustn', \"mustn't\", 'needn', \"needn't\", 'shan', \"shan't\", 'shouldn', \"shouldn't\", 'wasn', \"wasn't\", 'weren', \"weren't\", 'won', \"won't\", 'wouldn', \"wouldn't\"]\n"
     ]
    },
    {
     "name": "stderr",
     "output_type": "stream",
     "text": [
      "[nltk_data] Downloading package stopwords to\n",
      "[nltk_data]     C:\\Users\\Dell\\AppData\\Roaming\\nltk_data...\n",
      "[nltk_data]   Package stopwords is already up-to-date!\n"
     ]
    }
   ],
   "source": [
    "import nltk\n",
    "from nltk.tokenize import word_tokenize, RegexpTokenizer\n",
    "nltk.download('stopwords')\n",
    "from nltk.corpus import stopwords\n",
    "from nltk.stem import WordNetLemmatizer\n",
    "\n",
    "stop_words = stopwords.words('english')\n",
    "print(stop_words)"
   ]
  },
  {
   "cell_type": "markdown",
   "id": "21a25234",
   "metadata": {},
   "source": [
    "### 3. Removing stopwords"
   ]
  },
  {
   "cell_type": "code",
   "execution_count": 10,
   "id": "6c0dae6f",
   "metadata": {},
   "outputs": [
    {
     "data": {
      "text/html": [
       "<div>\n",
       "<style scoped>\n",
       "    .dataframe tbody tr th:only-of-type {\n",
       "        vertical-align: middle;\n",
       "    }\n",
       "\n",
       "    .dataframe tbody tr th {\n",
       "        vertical-align: top;\n",
       "    }\n",
       "\n",
       "    .dataframe thead th {\n",
       "        text-align: right;\n",
       "    }\n",
       "</style>\n",
       "<table border=\"1\" class=\"dataframe\">\n",
       "  <thead>\n",
       "    <tr style=\"text-align: right;\">\n",
       "      <th></th>\n",
       "      <th>Date</th>\n",
       "      <th>Headlines</th>\n",
       "    </tr>\n",
       "  </thead>\n",
       "  <tbody>\n",
       "    <tr>\n",
       "      <th>0</th>\n",
       "      <td>2015-01-01</td>\n",
       "      <td>expect apple inc 2015 1 reason might wrong app...</td>\n",
       "    </tr>\n",
       "    <tr>\n",
       "      <th>1</th>\n",
       "      <td>2015-01-02</td>\n",
       "      <td>expect apple 2015 beyond smartwatch amazonquot...</td>\n",
       "    </tr>\n",
       "    <tr>\n",
       "      <th>2</th>\n",
       "      <td>2015-01-03</td>\n",
       "      <td>mountie inexpensive innovative way attach ipho...</td>\n",
       "    </tr>\n",
       "    <tr>\n",
       "      <th>3</th>\n",
       "      <td>2015-01-04</td>\n",
       "      <td>donald yacktman sources moats concern applequo...</td>\n",
       "    </tr>\n",
       "    <tr>\n",
       "      <th>4</th>\n",
       "      <td>2015-01-05</td>\n",
       "      <td>simfree iphone 6 6 plus reportedly debuting to...</td>\n",
       "    </tr>\n",
       "  </tbody>\n",
       "</table>\n",
       "</div>"
      ],
      "text/plain": [
       "         Date                                          Headlines\n",
       "0  2015-01-01  expect apple inc 2015 1 reason might wrong app...\n",
       "1  2015-01-02  expect apple 2015 beyond smartwatch amazonquot...\n",
       "2  2015-01-03  mountie inexpensive innovative way attach ipho...\n",
       "3  2015-01-04  donald yacktman sources moats concern applequo...\n",
       "4  2015-01-05  simfree iphone 6 6 plus reportedly debuting to..."
      ]
     },
     "execution_count": 10,
     "metadata": {},
     "output_type": "execute_result"
    }
   ],
   "source": [
    "STOPWORDS = set(stopwords.words('english'))\n",
    "def remove_stopwords(text):\n",
    "    \"\"\"custom function to remove the stopwords\"\"\"\n",
    "    return \" \".join([word for word in str(text).split() if word not in STOPWORDS])\n",
    "\n",
    "du[\"Headlines\"] = du[\"Headlines\"].apply(lambda text: remove_stopwords(text))\n",
    "du.head()"
   ]
  },
  {
   "cell_type": "markdown",
   "id": "40cf2053",
   "metadata": {},
   "source": [
    "### 4.Tokenizing and Lammetizing"
   ]
  },
  {
   "cell_type": "code",
   "execution_count": 11,
   "id": "f6f8e557",
   "metadata": {},
   "outputs": [
    {
     "data": {
      "text/html": [
       "<div>\n",
       "<style scoped>\n",
       "    .dataframe tbody tr th:only-of-type {\n",
       "        vertical-align: middle;\n",
       "    }\n",
       "\n",
       "    .dataframe tbody tr th {\n",
       "        vertical-align: top;\n",
       "    }\n",
       "\n",
       "    .dataframe thead th {\n",
       "        text-align: right;\n",
       "    }\n",
       "</style>\n",
       "<table border=\"1\" class=\"dataframe\">\n",
       "  <thead>\n",
       "    <tr style=\"text-align: right;\">\n",
       "      <th></th>\n",
       "      <th>Date</th>\n",
       "      <th>Headlines</th>\n",
       "    </tr>\n",
       "  </thead>\n",
       "  <tbody>\n",
       "    <tr>\n",
       "      <th>0</th>\n",
       "      <td>2015-01-01</td>\n",
       "      <td>expect apple inc 2015 1 reason might wrong app...</td>\n",
       "    </tr>\n",
       "    <tr>\n",
       "      <th>1</th>\n",
       "      <td>2015-01-02</td>\n",
       "      <td>expect apple 2015 beyond smartwatch amazonquot...</td>\n",
       "    </tr>\n",
       "    <tr>\n",
       "      <th>2</th>\n",
       "      <td>2015-01-03</td>\n",
       "      <td>mountie inexpensive innovative way attach ipho...</td>\n",
       "    </tr>\n",
       "    <tr>\n",
       "      <th>3</th>\n",
       "      <td>2015-01-04</td>\n",
       "      <td>donald yacktman source moat concern applequots...</td>\n",
       "    </tr>\n",
       "    <tr>\n",
       "      <th>4</th>\n",
       "      <td>2015-01-05</td>\n",
       "      <td>simfree iphone 6 6 plus reportedly debuting to...</td>\n",
       "    </tr>\n",
       "  </tbody>\n",
       "</table>\n",
       "</div>"
      ],
      "text/plain": [
       "         Date                                          Headlines\n",
       "0  2015-01-01  expect apple inc 2015 1 reason might wrong app...\n",
       "1  2015-01-02  expect apple 2015 beyond smartwatch amazonquot...\n",
       "2  2015-01-03  mountie inexpensive innovative way attach ipho...\n",
       "3  2015-01-04  donald yacktman source moat concern applequots...\n",
       "4  2015-01-05  simfree iphone 6 6 plus reportedly debuting to..."
      ]
     },
     "execution_count": 11,
     "metadata": {},
     "output_type": "execute_result"
    }
   ],
   "source": [
    "lemmatizer = WordNetLemmatizer()\n",
    "def lemmatize_words(text):\n",
    "    return \" \".join([lemmatizer.lemmatize(word) for word in text.split()])\n",
    "\n",
    "du[\"Headlines\"] = du[\"Headlines\"].apply(lambda text: lemmatize_words(text))\n",
    "du.head()"
   ]
  },
  {
   "cell_type": "code",
   "execution_count": 12,
   "id": "72f5351e",
   "metadata": {},
   "outputs": [
    {
     "data": {
      "text/html": [
       "<div>\n",
       "<style scoped>\n",
       "    .dataframe tbody tr th:only-of-type {\n",
       "        vertical-align: middle;\n",
       "    }\n",
       "\n",
       "    .dataframe tbody tr th {\n",
       "        vertical-align: top;\n",
       "    }\n",
       "\n",
       "    .dataframe thead th {\n",
       "        text-align: right;\n",
       "    }\n",
       "</style>\n",
       "<table border=\"1\" class=\"dataframe\">\n",
       "  <thead>\n",
       "    <tr style=\"text-align: right;\">\n",
       "      <th></th>\n",
       "      <th>Date</th>\n",
       "      <th>Headlines</th>\n",
       "    </tr>\n",
       "  </thead>\n",
       "  <tbody>\n",
       "    <tr>\n",
       "      <th>169</th>\n",
       "      <td>2021-06-19</td>\n",
       "      <td>best preprime day smartwatch deal apple watch ...</td>\n",
       "    </tr>\n",
       "    <tr>\n",
       "      <th>170</th>\n",
       "      <td>2021-06-20</td>\n",
       "      <td>iphone 13 rumor apple fall event get closer se...</td>\n",
       "    </tr>\n",
       "    <tr>\n",
       "      <th>171</th>\n",
       "      <td>2021-06-21</td>\n",
       "      <td>apple shortening new free tv plus trial year t...</td>\n",
       "    </tr>\n",
       "    <tr>\n",
       "      <th>172</th>\n",
       "      <td>2021-06-22</td>\n",
       "      <td>google likely soon face antitrust claim play s...</td>\n",
       "    </tr>\n",
       "    <tr>\n",
       "      <th>173</th>\n",
       "      <td>2021-06-23</td>\n",
       "      <td>french court set date apple case app store dev...</td>\n",
       "    </tr>\n",
       "  </tbody>\n",
       "</table>\n",
       "</div>"
      ],
      "text/plain": [
       "           Date                                          Headlines\n",
       "169  2021-06-19  best preprime day smartwatch deal apple watch ...\n",
       "170  2021-06-20  iphone 13 rumor apple fall event get closer se...\n",
       "171  2021-06-21  apple shortening new free tv plus trial year t...\n",
       "172  2021-06-22  google likely soon face antitrust claim play s...\n",
       "173  2021-06-23  french court set date apple case app store dev..."
      ]
     },
     "execution_count": 12,
     "metadata": {},
     "output_type": "execute_result"
    }
   ],
   "source": [
    "du.tail()"
   ]
  },
  {
   "cell_type": "code",
   "execution_count": 13,
   "id": "19d3ea94",
   "metadata": {},
   "outputs": [
    {
     "data": {
      "text/html": [
       "<div>\n",
       "<style scoped>\n",
       "    .dataframe tbody tr th:only-of-type {\n",
       "        vertical-align: middle;\n",
       "    }\n",
       "\n",
       "    .dataframe tbody tr th {\n",
       "        vertical-align: top;\n",
       "    }\n",
       "\n",
       "    .dataframe thead th {\n",
       "        text-align: right;\n",
       "    }\n",
       "</style>\n",
       "<table border=\"1\" class=\"dataframe\">\n",
       "  <thead>\n",
       "    <tr style=\"text-align: right;\">\n",
       "      <th></th>\n",
       "      <th>Date</th>\n",
       "      <th>Headlines</th>\n",
       "    </tr>\n",
       "  </thead>\n",
       "  <tbody>\n",
       "    <tr>\n",
       "      <th>0</th>\n",
       "      <td>2015-01-01</td>\n",
       "      <td>expect apple inc 2015 1 reason might wrong app...</td>\n",
       "    </tr>\n",
       "    <tr>\n",
       "      <th>1</th>\n",
       "      <td>2015-01-02</td>\n",
       "      <td>expect apple 2015 beyond smartwatch amazonquot...</td>\n",
       "    </tr>\n",
       "    <tr>\n",
       "      <th>2</th>\n",
       "      <td>2015-01-03</td>\n",
       "      <td>mountie inexpensive innovative way attach ipho...</td>\n",
       "    </tr>\n",
       "    <tr>\n",
       "      <th>3</th>\n",
       "      <td>2015-01-04</td>\n",
       "      <td>donald yacktman source moat concern applequots...</td>\n",
       "    </tr>\n",
       "    <tr>\n",
       "      <th>4</th>\n",
       "      <td>2015-01-05</td>\n",
       "      <td>simfree iphone 6 6 plus reportedly debuting to...</td>\n",
       "    </tr>\n",
       "    <tr>\n",
       "      <th>...</th>\n",
       "      <td>...</td>\n",
       "      <td>...</td>\n",
       "    </tr>\n",
       "    <tr>\n",
       "      <th>169</th>\n",
       "      <td>2021-06-19</td>\n",
       "      <td>best preprime day smartwatch deal apple watch ...</td>\n",
       "    </tr>\n",
       "    <tr>\n",
       "      <th>170</th>\n",
       "      <td>2021-06-20</td>\n",
       "      <td>iphone 13 rumor apple fall event get closer se...</td>\n",
       "    </tr>\n",
       "    <tr>\n",
       "      <th>171</th>\n",
       "      <td>2021-06-21</td>\n",
       "      <td>apple shortening new free tv plus trial year t...</td>\n",
       "    </tr>\n",
       "    <tr>\n",
       "      <th>172</th>\n",
       "      <td>2021-06-22</td>\n",
       "      <td>google likely soon face antitrust claim play s...</td>\n",
       "    </tr>\n",
       "    <tr>\n",
       "      <th>173</th>\n",
       "      <td>2021-06-23</td>\n",
       "      <td>french court set date apple case app store dev...</td>\n",
       "    </tr>\n",
       "  </tbody>\n",
       "</table>\n",
       "<p>2365 rows × 2 columns</p>\n",
       "</div>"
      ],
      "text/plain": [
       "           Date                                          Headlines\n",
       "0    2015-01-01  expect apple inc 2015 1 reason might wrong app...\n",
       "1    2015-01-02  expect apple 2015 beyond smartwatch amazonquot...\n",
       "2    2015-01-03  mountie inexpensive innovative way attach ipho...\n",
       "3    2015-01-04  donald yacktman source moat concern applequots...\n",
       "4    2015-01-05  simfree iphone 6 6 plus reportedly debuting to...\n",
       "..          ...                                                ...\n",
       "169  2021-06-19  best preprime day smartwatch deal apple watch ...\n",
       "170  2021-06-20  iphone 13 rumor apple fall event get closer se...\n",
       "171  2021-06-21  apple shortening new free tv plus trial year t...\n",
       "172  2021-06-22  google likely soon face antitrust claim play s...\n",
       "173  2021-06-23  french court set date apple case app store dev...\n",
       "\n",
       "[2365 rows x 2 columns]"
      ]
     },
     "execution_count": 13,
     "metadata": {},
     "output_type": "execute_result"
    }
   ],
   "source": [
    "du\n"
   ]
  },
  {
   "cell_type": "code",
   "execution_count": null,
   "id": "319b120a",
   "metadata": {},
   "outputs": [],
   "source": []
  }
 ],
 "metadata": {
  "kernelspec": {
   "display_name": "Python 3",
   "language": "python",
   "name": "python3"
  },
  "language_info": {
   "codemirror_mode": {
    "name": "ipython",
    "version": 3
   },
   "file_extension": ".py",
   "mimetype": "text/x-python",
   "name": "python",
   "nbconvert_exporter": "python",
   "pygments_lexer": "ipython3",
   "version": "3.8.8"
  }
 },
 "nbformat": 4,
 "nbformat_minor": 5
}
